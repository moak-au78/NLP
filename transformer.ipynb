{
  "nbformat": 4,
  "nbformat_minor": 0,
  "metadata": {
    "colab": {
      "provenance": [],
      "authorship_tag": "ABX9TyMy32JJwY0Ku0OEaGpLd+jy",
      "include_colab_link": true
    },
    "kernelspec": {
      "name": "python3",
      "display_name": "Python 3"
    },
    "language_info": {
      "name": "python"
    }
  },
  "cells": [
    {
      "cell_type": "markdown",
      "metadata": {
        "id": "view-in-github",
        "colab_type": "text"
      },
      "source": [
        "<a href=\"https://colab.research.google.com/github/moak-au78/NLP/blob/main/transformer.ipynb\" target=\"_parent\"><img src=\"https://colab.research.google.com/assets/colab-badge.svg\" alt=\"Open In Colab\"/></a>"
      ]
    },
    {
      "cell_type": "code",
      "execution_count": null,
      "metadata": {
        "colab": {
          "base_uri": "https://localhost:8080/"
        },
        "id": "ozro1fa7MWZY",
        "outputId": "bf94cc63-a6a5-4ecf-b78b-dc906bc93b80"
      },
      "outputs": [
        {
          "output_type": "stream",
          "name": "stdout",
          "text": [
            "{'sequence': 'Angela Merkel is a politician in Germany and leader of the CDU', 'labels': ['politics', 'economy', 'environment', 'entertainment'], 'scores': [0.9994651079177856, 0.0002065974404104054, 0.0001747352071106434, 0.0001535149640403688]}\n"
          ]
        }
      ],
      "source": [
        "#!pip install transformers[sentencepiece]\n",
        "from transformers import pipeline\n",
        "text = \"Angela Merkel is a politician in Germany and leader of the CDU\"\n",
        "hypothesis_template = \"This text is about {}\"\n",
        "classes_verbalized = [\"politics\", \"economy\", \"entertainment\", \"environment\"]\n",
        "zeroshot_classifier = pipeline(\"zero-shot-classification\", model=\"MoritzLaurer/deberta-v3-large-zeroshot-v2.0\")  # change the model identifier here\n",
        "output = zeroshot_classifier(text, classes_verbalized, hypothesis_template=hypothesis_template, multi_label=False)\n",
        "print(output)\n"
      ]
    }
  ]
}